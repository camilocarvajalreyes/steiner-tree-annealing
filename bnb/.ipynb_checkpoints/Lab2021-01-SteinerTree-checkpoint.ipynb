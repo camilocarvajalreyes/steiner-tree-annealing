{
 "cells": [
  {
   "cell_type": "code",
   "execution_count": 1,
   "metadata": {},
   "outputs": [
    {
     "name": "stdout",
     "output_type": "stream",
     "text": [
      "Sys.BINDIR = \"C:\\\\Users\\\\felip\\\\AppData\\\\Local\\\\Programs\\\\Julia 1.5.4\\\\bin\"\n",
      "Julia Version 1.5.4\n",
      "Commit 69fcb5745b (2021-03-11 19:13 UTC)\n",
      "Platform Info:\n",
      "  OS: Windows (x86_64-w64-mingw32)\n",
      "  CPU: AMD Ryzen 5 3600XT 6-Core Processor            \n",
      "  WORD_SIZE: 64\n",
      "  LIBM: libopenlibm\n",
      "  LLVM: libLLVM-9.0.1 (ORCJIT, znver2)\n"
     ]
    }
   ],
   "source": [
    "@show(Sys.BINDIR)\n",
    "versioninfo()\n",
    "import Pkg\n",
    "# Descomente los siguientes comandos y vuelvalos a comentar una vez que los ejecute\n",
    "# Pkg.add(\"Distances\")\n",
    "# Pkg.add(\"Plots\")\n",
    "# Pkg.update(\"JuMP\")"
   ]
  },
  {
   "cell_type": "code",
   "execution_count": 2,
   "metadata": {},
   "outputs": [
    {
     "name": "stdout",
     "output_type": "stream",
     "text": [
      "\u001b[32m\u001b[1mStatus\u001b[22m\u001b[39m `C:\\Users\\felip\\.julia\\environments\\v1.5\\Project.toml`\n",
      " \u001b[90m [4076af6c] \u001b[39m\u001b[37mJuMP v0.21.6\u001b[39m\n",
      "Academic license - for non-commercial use only - expires 2022-02-04\n"
     ]
    }
   ],
   "source": [
    "Pkg.status(\"JuMP\")\n",
    "using JuMP, Gurobi, Distances, Plots\n",
    "const GUROBI_ENV = Gurobi.Env() # Abrir un solo ambiente de Gurobi, \n",
    "# Jupyter se marea si se crean demasiados modelos durante en una misma celda, esto lo evita.\n",
    "include(\"preparacion.jl\");"
   ]
  },
  {
   "cell_type": "code",
   "execution_count": 68,
   "metadata": {
    "scrolled": true
   },
   "outputs": [
    {
     "data": {
      "text/plain": [
       "model_STP (generic function with 1 method)"
      ]
     },
     "execution_count": 68,
     "metadata": {},
     "output_type": "execute_result"
    }
   ],
   "source": [
    "function model_STP(E, D, S)\n",
    "    \n",
    "    STS = Model(optimizer_with_attributes(() -> Gurobi.Optimizer(GUROBI_ENV))) # para multiples modelos en jupyter\n",
    "    set_optimizer_attributes(STS, \"OutputFlag\" => 0, \"TimeLimit\" => 80)\n",
    "    nx, ny = size(D)\n",
    "\n",
    "    @variable(STS, 0<=x[i in 1:nx, j in 1:ny; [i, j] in E]<=1, Int)\n",
    "    @objective(STS, Min, sum(x[e[1], e[2]] * D[e[1], e[2]] for e in E))\n",
    "    @constraint(STS, cortesimple[i in S], sum(x[e[1],e[2]] for e in E if i in e)>=1)\n",
    "    \n",
    "    return STS\n",
    "end "
   ]
  },
  {
   "cell_type": "code",
   "execution_count": 69,
   "metadata": {},
   "outputs": [],
   "source": [
    "function(read_stp(file_name))\n",
    "    file = open(file_name)\n",
    "    lines = readlines(file)\n",
    "    n = length(lines)\n",
    "    source = []\n",
    "    target = []\n",
    "    weight = []\n",
    "    check = false\n",
    "    nt = 0\n",
    "    for i in 1:n\n",
    "        l = lines[i]\n",
    "        if occursin(\"E \", l)\n",
    "            _, s, t, w  = split(l, \" \")\n",
    "            push!(source,parse(Int64,s))\n",
    "            push!(target,parse(Int64,t))\n",
    "            push!(weight,parse(Int64,w))\n",
    "        elseif occursin(\"SECTION Terminals\", l)\n",
    "            check = true\n",
    "        elseif check\n",
    "            _, nt  = split(l, \" \")\n",
    "            nt = parse(Int64,nt)\n",
    "            check = false \n",
    "        end\n",
    "    end\n",
    "    terminals = range(1, stop=nt)\n",
    "    return source, target, weight, terminals\n",
    "end;"
   ]
  },
  {
   "cell_type": "code",
   "execution_count": 88,
   "metadata": {},
   "outputs": [
    {
     "data": {
      "text/plain": [
       "solve_STP (generic function with 1 method)"
      ]
     },
     "execution_count": 88,
     "metadata": {},
     "output_type": "execute_result"
    }
   ],
   "source": [
    "function solve_STP(nombre_archivo)\n",
    "    source, target, weight, terminals = read_stp(file_name)\n",
    "    E = []\n",
    "    num_nodes = maximum([maximum(source), maximum(target)])\n",
    "    num_edges = length(source)\n",
    "    W = zeros(num_nodes, num_nodes)\n",
    "    for k in 1:num_edges\n",
    "        i, j  = Int(source[k]), Int(target[k])\n",
    "        push!(E, [i, j])\n",
    "        W[i, j] = weight[k]\n",
    "    end\n",
    "    S = terminals\n",
    "    STS=model_STP(E, W, S);\n",
    "    N=num_nodes\n",
    "    \n",
    "    \n",
    "    limite=250\n",
    "    itera=0\n",
    "    cortesagregados=0\n",
    "    simplex=0\n",
    "    \n",
    "    while (itera<limite) \n",
    "        optimize!(STS)\n",
    "        F=[e for e in E if value(STS[:x][e[1], e[2]]) ≈ 1]; \n",
    "\n",
    "        simplex=simplex + simplex_iterations(STS)\n",
    "\n",
    "        U = encuentracomponente(N,1,F)\n",
    "        \n",
    "        K=setdiff(S,U)\n",
    "        \n",
    "        if (length(K) == 0)\n",
    "            valor=objective_value(STS)\n",
    "            return STS\n",
    "            \n",
    "        else\n",
    "            for i in S\n",
    "                C = encuentracomponente(N,i,F)\n",
    "                @constraint(STS, sum(STS[:x][e[1],e[2]] for e in E if (e[1] in C && !(e[2] in C)) || (e[2] in C && !(e[1] in C)))>=1)\n",
    "                cortesagregados+=1\n",
    "            end\n",
    "        end \n",
    "    \n",
    "    itera=itera+1\n",
    "    println(\"Iteración $itera, cortes $cortesagregados\")                                                \n",
    "    end\n",
    "    if(itera==limite)\n",
    "            @warn(\"Exceso de iteraciones\")\n",
    "    end\n",
    "    return STS\n",
    "end\n"
   ]
  },
  {
   "cell_type": "code",
   "execution_count": 92,
   "metadata": {},
   "outputs": [
    {
     "name": "stdout",
     "output_type": "stream",
     "text": [
      "Iteración 1, cortes 6\n",
      "Iteración 2, cortes 12\n",
      "Iteración 3, cortes 18\n",
      "Iteración 4, cortes 24\n",
      "Iteración 5, cortes 30\n",
      "Iteración 6, cortes 36\n",
      "Iteración 7, cortes 42\n",
      "Iteración 8, cortes 48\n",
      "Iteración 9, cortes 54\n",
      "Iteración 10, cortes 60\n",
      "Iteración 11, cortes 66\n",
      "Iteración 12, cortes 72\n",
      "Iteración 13, cortes 78\n",
      "Iteración 14, cortes 84\n",
      "Iteración 15, cortes 90\n",
      "Iteración 16, cortes 96\n",
      "Iteración 17, cortes 102\n",
      "Iteración 18, cortes 108\n",
      "Iteración 19, cortes 114\n",
      "Iteración 20, cortes 120\n",
      "Iteración 21, cortes 126\n",
      "Iteración 22, cortes 132\n",
      "Iteración 23, cortes 138\n",
      "Iteración 24, cortes 144\n",
      "Iteración 25, cortes 150\n",
      "Iteración 26, cortes 156\n",
      "  1.326873 seconds (226.48 k allocations: 15.837 MiB)\n"
     ]
    }
   ],
   "source": [
    "file_name = \"../I080/i080-001.stp\"\n",
    "STP = @time(solve_STP(file_name));"
   ]
  },
  {
   "cell_type": "code",
   "execution_count": 90,
   "metadata": {},
   "outputs": [
    {
     "name": "stdout",
     "output_type": "stream",
     "text": [
      "STP = nothing\n"
     ]
    }
   ],
   "source": [
    "@show(STP)"
   ]
  },
  {
   "cell_type": "code",
   "execution_count": 83,
   "metadata": {},
   "outputs": [],
   "source": [
    "stp_names = [\"i080-001.stp\", \"i080-011.stp\", \"i080-021.stp\", \"i080-031.stp\", \"i080-041.stp\", \"i080-101.stp\",\n",
    "             \"i080-111.stp\", \"i080-121.stp\", \"i080-131.stp\", \"i080-141.stp\", \"i080-201.stp\", \"i080-211.stp\",\n",
    "             \"i080-221.stp\", \"i080-231.stp\", \"i080-241.stp\", \"i080-301.stp\", \"i080-311.stp\", \"i080-321.stp\",\n",
    "             \"i080-331.stp\", \"i080-341.stp\"]\n",
    ";"
   ]
  },
  {
   "cell_type": "code",
   "execution_count": null,
   "metadata": {},
   "outputs": [],
   "source": []
  }
 ],
 "metadata": {
  "kernelspec": {
   "display_name": "Julia 1.5.4",
   "language": "julia",
   "name": "julia-1.5"
  },
  "language_info": {
   "file_extension": ".jl",
   "mimetype": "application/julia",
   "name": "julia",
   "version": "1.5.4"
  }
 },
 "nbformat": 4,
 "nbformat_minor": 2
}
