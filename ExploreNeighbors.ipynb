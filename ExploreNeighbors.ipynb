{
 "cells": [
  {
   "cell_type": "markdown",
   "metadata": {},
   "source": [
    "# Exploración de hiperparámetros"
   ]
  },
  {
   "cell_type": "code",
   "execution_count": 1,
   "metadata": {},
   "outputs": [],
   "source": [
    "import pandas as pd\n",
    "import numpy as np\n",
    "pd.set_option(\"max_rows\", None)\n",
    "from os import listdir\n",
    "from os.path import isfile, join\n",
    "import re\n",
    "import os\n",
    "import sys\n",
    "import json\n",
    "import pickle\n",
    "\n",
    "import matplotlib.pyplot as plt\n",
    "import seaborn as sns\n",
    "sns.set_theme(style=\"whitegrid\")\n",
    "plt.rc('axes', titlesize=14)\n",
    "plt.rc('legend', fontsize=14)\n",
    "plt.rc('xtick', labelsize=12)\n",
    "plt.rc('ytick', labelsize=12)\n",
    "plt.rcParams.update({'font.size': 16})\n",
    "plt.rcParams['axes.titlesize'] = 16\n",
    "plt.rcParams[\"figure.figsize\"] = (10, 6)\n",
    "plt.rcParams.update({'lines.markeredgewidth': 1})\n",
    "plt.rcParams.update({'errorbar.capsize': 2})\n",
    "tab_c = ['tab:blue','tab:orange','tab:green','tab:red','tab:purple','tab:brown','tab:pink',\n",
    "         'tab:gray','tab:olive','tab:cyan']\n",
    "\n",
    "from MCMC_steiner_tree import Annealing, pre_pros, plot_graph_by_edges, Trans, weight, Annealing, read_stp, check_steiner_tree, Kruskal"
   ]
  },
  {
   "cell_type": "code",
   "execution_count": 2,
   "metadata": {},
   "outputs": [],
   "source": [
    "root = {\n",
    "    \"main\": \"\",  # \"/Proyecto Sim. Est.\",\n",
    "    \"data\":\"I080/\",\n",
    "    \"data_I320\":\"/I320/\",\n",
    "    \"sols\": \"bnb/solutions/\" \n",
    "}"
   ]
  },
  {
   "cell_type": "markdown",
   "metadata": {},
   "source": [
    "## Importando resultados"
   ]
  },
  {
   "cell_type": "code",
   "execution_count": 3,
   "metadata": {},
   "outputs": [
    {
     "name": "stdout",
     "output_type": "stream",
     "text": [
      "{'a': [0.5, 0.875, 1.25, 1.625, 2.0], 'b': [0.0, 0.25, 0.5, 0.75, 1.0]}\n"
     ]
    }
   ],
   "source": [
    "f = open('gridsearch/gridsearch.json')\n",
    "grid_search = json.load(f)\n",
    "print(grid_search)\n",
    "f.close()"
   ]
  },
  {
   "cell_type": "code",
   "execution_count": 4,
   "metadata": {},
   "outputs": [
    {
     "name": "stdout",
     "output_type": "stream",
     "text": [
      "{'nf': 3000, 'save_rate': 5, 'repeat': 10}\n"
     ]
    }
   ],
   "source": [
    "f = open('gridsearch/params.json')\n",
    "params = json.load(f)\n",
    "print(params)\n",
    "f.close()"
   ]
  },
  {
   "cell_type": "code",
   "execution_count": 5,
   "metadata": {},
   "outputs": [],
   "source": [
    "stp_names = ['i080-001.stp', 'i080-011.stp', 'i080-021.stp', 'i080-031.stp', 'i080-041.stp', 'i080-101.stp',\n",
    "             'i080-111.stp', 'i080-121.stp', 'i080-131.stp', 'i080-141.stp', 'i080-201.stp', 'i080-211.stp',\n",
    "             'i080-221.stp', 'i080-231.stp', 'i080-241.stp', 'i080-301.stp', 'i080-311.stp', 'i080-321.stp',\n",
    "             'i080-331.stp', 'i080-341.stp']"
   ]
  },
  {
   "cell_type": "code",
   "execution_count": 6,
   "metadata": {},
   "outputs": [
    {
     "data": {
      "text/html": [
       "<div>\n",
       "<style scoped>\n",
       "    .dataframe tbody tr th:only-of-type {\n",
       "        vertical-align: middle;\n",
       "    }\n",
       "\n",
       "    .dataframe tbody tr th {\n",
       "        vertical-align: top;\n",
       "    }\n",
       "\n",
       "    .dataframe thead th {\n",
       "        text-align: right;\n",
       "    }\n",
       "</style>\n",
       "<table border=\"1\" class=\"dataframe\">\n",
       "  <thead>\n",
       "    <tr style=\"text-align: right;\">\n",
       "      <th></th>\n",
       "      <th>|V|</th>\n",
       "      <th>|E|</th>\n",
       "      <th>|T|</th>\n",
       "      <th>DC</th>\n",
       "      <th>time</th>\n",
       "      <th>Opt</th>\n",
       "    </tr>\n",
       "    <tr>\n",
       "      <th>Name</th>\n",
       "      <th></th>\n",
       "      <th></th>\n",
       "      <th></th>\n",
       "      <th></th>\n",
       "      <th></th>\n",
       "      <th></th>\n",
       "    </tr>\n",
       "  </thead>\n",
       "  <tbody>\n",
       "    <tr>\n",
       "      <th>i080-001</th>\n",
       "      <td>80</td>\n",
       "      <td>120</td>\n",
       "      <td>6</td>\n",
       "      <td>P</td>\n",
       "      <td>s</td>\n",
       "      <td>1787</td>\n",
       "    </tr>\n",
       "    <tr>\n",
       "      <th>i080-002</th>\n",
       "      <td>80</td>\n",
       "      <td>120</td>\n",
       "      <td>6</td>\n",
       "      <td>P</td>\n",
       "      <td>s</td>\n",
       "      <td>1607</td>\n",
       "    </tr>\n",
       "    <tr>\n",
       "      <th>i080-003</th>\n",
       "      <td>80</td>\n",
       "      <td>120</td>\n",
       "      <td>6</td>\n",
       "      <td>P</td>\n",
       "      <td>s</td>\n",
       "      <td>1713</td>\n",
       "    </tr>\n",
       "    <tr>\n",
       "      <th>i080-004</th>\n",
       "      <td>80</td>\n",
       "      <td>120</td>\n",
       "      <td>6</td>\n",
       "      <td>P</td>\n",
       "      <td>s</td>\n",
       "      <td>1866</td>\n",
       "    </tr>\n",
       "    <tr>\n",
       "      <th>i080-005</th>\n",
       "      <td>80</td>\n",
       "      <td>120</td>\n",
       "      <td>6</td>\n",
       "      <td>P</td>\n",
       "      <td>s</td>\n",
       "      <td>1790</td>\n",
       "    </tr>\n",
       "  </tbody>\n",
       "</table>\n",
       "</div>"
      ],
      "text/plain": [
       "          |V|  |E|  |T| DC time   Opt\n",
       "Name                                 \n",
       "i080-001   80  120    6  P    s  1787\n",
       "i080-002   80  120    6  P    s  1607\n",
       "i080-003   80  120    6  P    s  1713\n",
       "i080-004   80  120    6  P    s  1866\n",
       "i080-005   80  120    6  P    s  1790"
      ]
     },
     "execution_count": 6,
     "metadata": {},
     "output_type": "execute_result"
    }
   ],
   "source": [
    "df_opt = pd.read_excel('Testset_I320.xlsx', sheet_name=\"I080\")\n",
    "df_opt = df_opt.set_index(\"Name\")\n",
    "df_opt.head()"
   ]
  },
  {
   "cell_type": "code",
   "execution_count": 7,
   "metadata": {},
   "outputs": [],
   "source": [
    "with open('gridsearch/UNIFORMS.pickle', 'rb') as handle:\n",
    "    uniforms = pickle.load(handle)"
   ]
  },
  {
   "cell_type": "code",
   "execution_count": 8,
   "metadata": {},
   "outputs": [],
   "source": [
    "methods = ['BFS_node','DFS_node']\n",
    "a_values = grid_search['a']\n",
    "b_values = grid_search['b']\n",
    "len_U = len(uniforms)"
   ]
  },
  {
   "cell_type": "code",
   "execution_count": 9,
   "metadata": {},
   "outputs": [],
   "source": [
    "class grafo_resultado(object):\n",
    "    def __init__(self,name,len_U,df=df_opt,folder=root['main']+root['data']):\n",
    "        name = name if not '.stp' in name else name.replace('.stp','')\n",
    "        df_edges_G, terminals = read_stp(folder+name+'.stp')\n",
    "        _, _, dic_edges, _ = pre_pros(df_edges_G)\n",
    "        self.id = name\n",
    "        self.terminals = terminals\n",
    "        self.dic_edges = dic_edges\n",
    "        self.opt = df['Opt'][name]\n",
    "        self.size = int(df['|V|'][name])\n",
    "        self.length = int(df['|E|'][name])\n",
    "        self.difficulty = df['DC'][name]\n",
    "        self.time = df['time'][name]\n",
    "        self._results_loaded = False\n",
    "        self._weights_computed = False\n",
    "        self.len_U = len_U\n",
    "        self.density = 2*self.length/(self.size*(self.size-1))\n",
    "    \n",
    "    @staticmethod\n",
    "    def load_cm_path(path):\n",
    "        with open(path, 'rb') as handle:\n",
    "            return pickle.load(handle)\n",
    "        \n",
    "    def get_results(self,methods,a_values=grid_search['a'],b_values=grid_search['b']):\n",
    "        results = {}\n",
    "        times = {}\n",
    "        for m in methods:\n",
    "            results[m] = {}\n",
    "            times[m] = {}\n",
    "            for i, a in enumerate(a_values):\n",
    "                results[m][a] = {}\n",
    "                times[m][a] = {}\n",
    "                for j, b in enumerate(b_values):\n",
    "                    results[m][a][b] = {}\n",
    "                    times[m][a][b] = {}\n",
    "                    for l in range(self.len_U):\n",
    "                        file = 'gridsearch/{}/{}_ixa={}_ixb={}_ixu={}_CM.pickle'.format(self.id,m,i,j,l)\n",
    "                        results[m][a][b][l] = self.load_cm_path(file)\n",
    "                        file = 'gridsearch/{}/{}_ixa={}_ixb={}_ixu={}_times.pickle'.format(self.id,m,i,j,l)\n",
    "                        times[m][a][b][l] = self.load_cm_path(file)\n",
    "        self.results = results\n",
    "        self.times = times\n",
    "        self._results_loaded = True\n",
    "    \n",
    "    def compute_weight_cm(self):\n",
    "        weight_cm = {}\n",
    "        weight_avg, weight_std, weight_min, weight_max = {}, {}, {}, {}\n",
    "        for m in methods:\n",
    "            weight_cm[m] = {}\n",
    "            weight_avg[m], weight_std[m] = {}, {}\n",
    "            weight_min[m], weight_max[m] = {}, {}\n",
    "            for a in a_values:\n",
    "                weight_cm[m][a] = {}\n",
    "                weight_avg[m][a], weight_std[m][a] = {}, {}\n",
    "                weight_min[m][a], weight_max[m][a] = {}, {}\n",
    "                for b in b_values:\n",
    "                    weight_cm[m][a][b] = {}\n",
    "                    weight_avg[m][a][b], weight_std[m][a][b] = {}, {}\n",
    "                    weight_min[m][a][b], weight_max[m][a][b] = {}, {}\n",
    "                    for l in range(self.len_U):\n",
    "                        weight_cm[m][a][b][l] = [weight(x, self.dic_edges) for x in self.results[m][a][b][l]]\n",
    "                    weight_avg[m][a][b], weight_std[m][a][b] = self.avg_weights(weight_cm[m][a][b])\n",
    "                    weight_min[m][a][b], weight_max[m][a][b] = self.min_max_weights(weight_cm[m][a][b])\n",
    "        self.weight_cm = weight_cm\n",
    "        self.weight_avg = weight_avg\n",
    "        self.weight_std = weight_std\n",
    "        self.weight_min = weight_min\n",
    "        self.weight_max = weight_max\n",
    "        self._weights_computed = True\n",
    "        self.compute_weight_final()\n",
    "    \n",
    "    @staticmethod\n",
    "    def avg_weights(weights_unif):\n",
    "        N = len(weights_unif)\n",
    "        weights_unif = np.array(list(weights_unif.values()))\n",
    "        weights_avg = np.mean(weights_unif,axis=0)\n",
    "        weights_std = np.std(weights_unif,axis=0)\n",
    "        return list(weights_avg), list(weights_std)\n",
    "    \n",
    "    @staticmethod\n",
    "    def min_max_weights(weights_unif):\n",
    "        N = len(weights_unif)\n",
    "        weights_unif = np.array(list(weights_unif.values()))\n",
    "        weights_min = np.min(weights_unif,axis=0)\n",
    "        weights_max = np.max(weights_unif,axis=0)\n",
    "        return list(weights_min), list(weights_max)\n",
    "    \n",
    "    def compute_weight_final(self):\n",
    "        weight_final = {}\n",
    "        for m in methods:\n",
    "            weight_final[m] = {}\n",
    "            for a in a_values:\n",
    "                weight_final[m][a] = {}\n",
    "                for b in b_values:\n",
    "                    weight_final[m][a][b] = {}\n",
    "                    for l in range(self.len_U):\n",
    "                        if self._weights_computed:\n",
    "                            weight_final[m][a][b][l] = self.weight_cm[m][a][b][l][-1]\n",
    "                        else:\n",
    "                            x = self.results[m][a][b][l][-1]\n",
    "                            weight_final[m][a][b][l] = weight(x, self.dic_edges)\n",
    "        self.weight_final = weight_final"
   ]
  },
  {
   "cell_type": "markdown",
   "metadata": {},
   "source": [
    "---"
   ]
  },
  {
   "cell_type": "code",
   "execution_count": 16,
   "metadata": {},
   "outputs": [
    {
     "name": "stdout",
     "output_type": "stream",
     "text": [
      "i080-001\n"
     ]
    }
   ],
   "source": [
    "dic_grafos = {}\n",
    "for grafo_id in stp_names[0:1]:\n",
    "    grafo = grafo_id[:-4]\n",
    "    print(grafo)\n",
    "    grafo_result = grafo_resultado(grafo,len_U)\n",
    "    grafo_result.get_results(methods)\n",
    "    grafo_result.compute_weight_cm()\n",
    "    dic_grafos[grafo] = grafo_result"
   ]
  },
  {
   "cell_type": "code",
   "execution_count": 17,
   "metadata": {},
   "outputs": [],
   "source": [
    "stp_name = stp_names[0]\n",
    "df_edges_G, terminals = read_stp(\"I080/\"+stp_name)\n",
    "df_G, dic_incidence, dic_edges, G = pre_pros(df_edges_G)\n",
    "V = set(df_G.index)"
   ]
  },
  {
   "cell_type": "code",
   "execution_count": 18,
   "metadata": {},
   "outputs": [
    {
     "data": {
      "text/plain": [
       "1787"
      ]
     },
     "execution_count": 18,
     "metadata": {},
     "output_type": "execute_result"
    }
   ],
   "source": [
    "dic_grafos[\"i080-001\"].opt"
   ]
  },
  {
   "cell_type": "code",
   "execution_count": 63,
   "metadata": {},
   "outputs": [],
   "source": [
    "x0, _, NB_x0 = Kruskal(V, dic_edges)\n",
    "x, NB_x = x0, NB_x0"
   ]
  },
  {
   "cell_type": "code",
   "execution_count": 64,
   "metadata": {},
   "outputs": [
    {
     "data": {
      "text/plain": [
       "8562"
      ]
     },
     "execution_count": 64,
     "metadata": {},
     "output_type": "execute_result"
    }
   ],
   "source": [
    "w0 = weight(x, dic_edges)\n",
    "w0"
   ]
  },
  {
   "cell_type": "code",
   "execution_count": 65,
   "metadata": {},
   "outputs": [],
   "source": [
    "diff_weight_neighbords_init = []\n",
    "for _ in range(1000):    \n",
    "    v = np.random.uniform()\n",
    "    y, NB_y = Trans(v, x, NB_x, df_G, dic_edges, terminals, False, \"DFS\", \"Node\", \"\")\n",
    "    w = weight(y, dic_edges)\n",
    "    diff_weight_neighbords_init.append(w-w0)\n",
    "y0, NB_y0 = y, NB_y\n",
    "w0 = w"
   ]
  },
  {
   "cell_type": "code",
   "execution_count": 66,
   "metadata": {},
   "outputs": [
    {
     "data": {
      "text/plain": [
       "(array([  4.,  32.,  81.,  81., 111., 591.,  60.,  29.,   8.,   3.]),\n",
       " array([-6510. , -6334.8, -6159.6, -5984.4, -5809.2, -5634. , -5458.8,\n",
       "        -5283.6, -5108.4, -4933.2, -4758. ]),\n",
       " <BarContainer object of 10 artists>)"
      ]
     },
     "execution_count": 66,
     "metadata": {},
     "output_type": "execute_result"
    },
    {
     "data": {
      "image/png": "[encoded data removed]",
      "text/plain": [
       "<Figure size 720x432 with 1 Axes>"
      ]
     },
     "metadata": {},
     "output_type": "display_data"
    }
   ],
   "source": [
    "plt.hist(diff_weight_neighbords_init)"
   ]
  },
  {
   "cell_type": "code",
   "execution_count": 73,
   "metadata": {},
   "outputs": [],
   "source": [
    "diff_weight_neighbords_rand = []\n",
    "for _ in range(1000):    \n",
    "    v = np.random.uniform()\n",
    "    y, NB_y = Trans(v, y0, NB_y0, df_G, dic_edges, terminals, False, \"DFS\", \"Node\", \"Kruskal\")\n",
    "    w = weight(y, dic_edges)\n",
    "    diff_weight_neighbords_rand.append(w-w0)\n",
    "y0, NB_y0 = y, NB_y\n",
    "w0 = w"
   ]
  },
  {
   "cell_type": "code",
   "execution_count": 74,
   "metadata": {},
   "outputs": [
    {
     "data": {
      "text/plain": [
       "(array([ 33., 149., 438., 173., 101.,  53.,  34.,  14.,   3.,   2.]),\n",
       " array([-634. , -421.7, -209.4,    2.9,  215.2,  427.5,  639.8,  852.1,\n",
       "        1064.4, 1276.7, 1489. ]),\n",
       " <BarContainer object of 10 artists>)"
      ]
     },
     "execution_count": 74,
     "metadata": {},
     "output_type": "execute_result"
    },
    {
     "data": {
      "image/png": "[encoded data removed]",
      "text/plain": [
       "<Figure size 720x432 with 1 Axes>"
      ]
     },
     "metadata": {},
     "output_type": "display_data"
    }
   ],
   "source": [
    "plt.hist(diff_weight_neighbords_rand)"
   ]
  }
 ],
 "metadata": {
  "kernelspec": {
   "display_name": "Python 3",
   "language": "python",
   "name": "python3"
  },
  "language_info": {
   "codemirror_mode": {
    "name": "ipython",
    "version": 3
   },
   "file_extension": ".py",
   "mimetype": "text/x-python",
   "name": "python",
   "nbconvert_exporter": "python",
   "pygments_lexer": "ipython3",
   "version": "3.8.5"
  }
 },
 "nbformat": 4,
 "nbformat_minor": 5
}
